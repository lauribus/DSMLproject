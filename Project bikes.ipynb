{
 "cells": [
  {
   "cell_type": "code",
   "execution_count": 99,
   "id": "5adbc6f8-8120-47c9-afda-c2fafd223e19",
   "metadata": {
    "tags": []
   },
   "outputs": [],
   "source": [
    "import numpy as np\n",
    "import pandas as pd"
   ]
  },
  {
   "cell_type": "code",
   "execution_count": 100,
   "id": "d7817617",
   "metadata": {},
   "outputs": [
    {
     "name": "stderr",
     "output_type": "stream",
     "text": [
      "C:\\Users\\Laura\\AppData\\Local\\Temp\\ipykernel_24744\\70620609.py:1: DtypeWarning: Columns (6) have mixed types. Specify dtype option on import or set low_memory=False.\n",
      "  bikes = pd.read_csv(\"C:/Users/Laura/Documents/DSML/Project/bluebikes_2021.csv\")\n"
     ]
    }
   ],
   "source": [
    "bikes = pd.read_csv(\"bluebikes_2021.csv\")\n"
   ]
  },
  {
   "cell_type": "markdown",
   "id": "0106769d",
   "metadata": {},
   "source": [
    "# Exploration"
   ]
  },
  {
   "cell_type": "code",
   "execution_count": 101,
   "id": "8d5dca53",
   "metadata": {},
   "outputs": [
    {
     "name": "stdout",
     "output_type": "stream",
     "text": [
      "<class 'pandas.core.frame.DataFrame'>\n",
      "RangeIndex: 2934388 entries, 0 to 2934387\n",
      "Data columns (total 10 columns):\n",
      " #   Column             Dtype  \n",
      "---  ------             -----  \n",
      " 0   Unnamed: 0         int64  \n",
      " 1   start_time         object \n",
      " 2   end_time           object \n",
      " 3   start_station_id   int64  \n",
      " 4   start_station_lat  float64\n",
      " 5   start_station_lon  float64\n",
      " 6   end_station_id     object \n",
      " 7   end_station_lat    float64\n",
      " 8   end_station_lon    float64\n",
      " 9   bike_id            int64  \n",
      "dtypes: float64(4), int64(3), object(3)\n",
      "memory usage: 223.9+ MB\n"
     ]
    }
   ],
   "source": [
    "bikes.info()"
   ]
  },
  {
   "cell_type": "code",
   "execution_count": 112,
   "id": "25b2df2b",
   "metadata": {},
   "outputs": [],
   "source": [
    "# explain what we found in the data frame (e.g. inconsistencies with column types, start_time / end-time columns, etc.)\n"
   ]
  },
  {
   "cell_type": "markdown",
   "id": "e0afe37c",
   "metadata": {},
   "source": [
    "# Data cleaning"
   ]
  },
  {
   "cell_type": "code",
   "execution_count": null,
   "id": "902f262c",
   "metadata": {},
   "outputs": [],
   "source": [
    "# explain how we are going to fix all the mistakes we found"
   ]
  },
  {
   "cell_type": "code",
   "execution_count": 113,
   "id": "a47e213a",
   "metadata": {},
   "outputs": [
    {
     "ename": "AttributeError",
     "evalue": "Can only use .str accessor with string values!",
     "output_type": "error",
     "traceback": [
      "\u001b[1;31m---------------------------------------------------------------------------\u001b[0m",
      "\u001b[1;31mAttributeError\u001b[0m                            Traceback (most recent call last)",
      "Cell \u001b[1;32mIn[113], line 9\u001b[0m\n\u001b[0;32m      6\u001b[0m     data[column] \u001b[38;5;241m=\u001b[39m data[column]\u001b[38;5;241m.\u001b[39mstr\u001b[38;5;241m.\u001b[39mreplace(\u001b[38;5;124m'\u001b[39m\u001b[38;5;124m/\u001b[39m\u001b[38;5;124m'\u001b[39m, \u001b[38;5;124m'\u001b[39m\u001b[38;5;124m:\u001b[39m\u001b[38;5;124m'\u001b[39m)\n\u001b[0;32m      7\u001b[0m     \u001b[38;5;28;01mreturn\u001b[39;00m data\n\u001b[1;32m----> 9\u001b[0m \u001b[43msubstitute_slashes\u001b[49m\u001b[43m(\u001b[49m\u001b[43mbikes\u001b[49m\u001b[43m,\u001b[49m\u001b[43m \u001b[49m\u001b[38;5;124;43m'\u001b[39;49m\u001b[38;5;124;43mstart_time\u001b[39;49m\u001b[38;5;124;43m'\u001b[39;49m\u001b[43m)\u001b[49m\n\u001b[0;32m     10\u001b[0m substitute_slashes(bikes, \u001b[38;5;124m'\u001b[39m\u001b[38;5;124mend_time\u001b[39m\u001b[38;5;124m'\u001b[39m)\n\u001b[0;32m     13\u001b[0m \u001b[38;5;66;03m# second, we transform the start_time and end_time columns to the proper format with the pd.to_datatime method\u001b[39;00m\n",
      "Cell \u001b[1;32mIn[113], line 6\u001b[0m, in \u001b[0;36msubstitute_slashes\u001b[1;34m(data, column)\u001b[0m\n\u001b[0;32m      5\u001b[0m \u001b[38;5;28;01mdef\u001b[39;00m \u001b[38;5;21msubstitute_slashes\u001b[39m(data, column):\n\u001b[1;32m----> 6\u001b[0m     data[column] \u001b[38;5;241m=\u001b[39m \u001b[43mdata\u001b[49m\u001b[43m[\u001b[49m\u001b[43mcolumn\u001b[49m\u001b[43m]\u001b[49m\u001b[38;5;241;43m.\u001b[39;49m\u001b[43mstr\u001b[49m\u001b[38;5;241m.\u001b[39mreplace(\u001b[38;5;124m'\u001b[39m\u001b[38;5;124m/\u001b[39m\u001b[38;5;124m'\u001b[39m, \u001b[38;5;124m'\u001b[39m\u001b[38;5;124m:\u001b[39m\u001b[38;5;124m'\u001b[39m)\n\u001b[0;32m      7\u001b[0m     \u001b[38;5;28;01mreturn\u001b[39;00m data\n",
      "File \u001b[1;32m~\\anaconda3\\lib\\site-packages\\pandas\\core\\generic.py:5902\u001b[0m, in \u001b[0;36mNDFrame.__getattr__\u001b[1;34m(self, name)\u001b[0m\n\u001b[0;32m   5895\u001b[0m \u001b[38;5;28;01mif\u001b[39;00m (\n\u001b[0;32m   5896\u001b[0m     name \u001b[38;5;129;01mnot\u001b[39;00m \u001b[38;5;129;01min\u001b[39;00m \u001b[38;5;28mself\u001b[39m\u001b[38;5;241m.\u001b[39m_internal_names_set\n\u001b[0;32m   5897\u001b[0m     \u001b[38;5;129;01mand\u001b[39;00m name \u001b[38;5;129;01mnot\u001b[39;00m \u001b[38;5;129;01min\u001b[39;00m \u001b[38;5;28mself\u001b[39m\u001b[38;5;241m.\u001b[39m_metadata\n\u001b[0;32m   5898\u001b[0m     \u001b[38;5;129;01mand\u001b[39;00m name \u001b[38;5;129;01mnot\u001b[39;00m \u001b[38;5;129;01min\u001b[39;00m \u001b[38;5;28mself\u001b[39m\u001b[38;5;241m.\u001b[39m_accessors\n\u001b[0;32m   5899\u001b[0m     \u001b[38;5;129;01mand\u001b[39;00m \u001b[38;5;28mself\u001b[39m\u001b[38;5;241m.\u001b[39m_info_axis\u001b[38;5;241m.\u001b[39m_can_hold_identifiers_and_holds_name(name)\n\u001b[0;32m   5900\u001b[0m ):\n\u001b[0;32m   5901\u001b[0m     \u001b[38;5;28;01mreturn\u001b[39;00m \u001b[38;5;28mself\u001b[39m[name]\n\u001b[1;32m-> 5902\u001b[0m \u001b[38;5;28;01mreturn\u001b[39;00m \u001b[38;5;28;43mobject\u001b[39;49m\u001b[38;5;241;43m.\u001b[39;49m\u001b[38;5;21;43m__getattribute__\u001b[39;49m\u001b[43m(\u001b[49m\u001b[38;5;28;43mself\u001b[39;49m\u001b[43m,\u001b[49m\u001b[43m \u001b[49m\u001b[43mname\u001b[49m\u001b[43m)\u001b[49m\n",
      "File \u001b[1;32m~\\anaconda3\\lib\\site-packages\\pandas\\core\\accessor.py:182\u001b[0m, in \u001b[0;36mCachedAccessor.__get__\u001b[1;34m(self, obj, cls)\u001b[0m\n\u001b[0;32m    179\u001b[0m \u001b[38;5;28;01mif\u001b[39;00m obj \u001b[38;5;129;01mis\u001b[39;00m \u001b[38;5;28;01mNone\u001b[39;00m:\n\u001b[0;32m    180\u001b[0m     \u001b[38;5;66;03m# we're accessing the attribute of the class, i.e., Dataset.geo\u001b[39;00m\n\u001b[0;32m    181\u001b[0m     \u001b[38;5;28;01mreturn\u001b[39;00m \u001b[38;5;28mself\u001b[39m\u001b[38;5;241m.\u001b[39m_accessor\n\u001b[1;32m--> 182\u001b[0m accessor_obj \u001b[38;5;241m=\u001b[39m \u001b[38;5;28;43mself\u001b[39;49m\u001b[38;5;241;43m.\u001b[39;49m\u001b[43m_accessor\u001b[49m\u001b[43m(\u001b[49m\u001b[43mobj\u001b[49m\u001b[43m)\u001b[49m\n\u001b[0;32m    183\u001b[0m \u001b[38;5;66;03m# Replace the property with the accessor object. Inspired by:\u001b[39;00m\n\u001b[0;32m    184\u001b[0m \u001b[38;5;66;03m# https://www.pydanny.com/cached-property.html\u001b[39;00m\n\u001b[0;32m    185\u001b[0m \u001b[38;5;66;03m# We need to use object.__setattr__ because we overwrite __setattr__ on\u001b[39;00m\n\u001b[0;32m    186\u001b[0m \u001b[38;5;66;03m# NDFrame\u001b[39;00m\n\u001b[0;32m    187\u001b[0m \u001b[38;5;28mobject\u001b[39m\u001b[38;5;241m.\u001b[39m\u001b[38;5;21m__setattr__\u001b[39m(obj, \u001b[38;5;28mself\u001b[39m\u001b[38;5;241m.\u001b[39m_name, accessor_obj)\n",
      "File \u001b[1;32m~\\anaconda3\\lib\\site-packages\\pandas\\core\\strings\\accessor.py:181\u001b[0m, in \u001b[0;36mStringMethods.__init__\u001b[1;34m(self, data)\u001b[0m\n\u001b[0;32m    178\u001b[0m \u001b[38;5;28;01mdef\u001b[39;00m \u001b[38;5;21m__init__\u001b[39m(\u001b[38;5;28mself\u001b[39m, data) \u001b[38;5;241m-\u001b[39m\u001b[38;5;241m>\u001b[39m \u001b[38;5;28;01mNone\u001b[39;00m:\n\u001b[0;32m    179\u001b[0m     \u001b[38;5;28;01mfrom\u001b[39;00m \u001b[38;5;21;01mpandas\u001b[39;00m\u001b[38;5;21;01m.\u001b[39;00m\u001b[38;5;21;01mcore\u001b[39;00m\u001b[38;5;21;01m.\u001b[39;00m\u001b[38;5;21;01marrays\u001b[39;00m\u001b[38;5;21;01m.\u001b[39;00m\u001b[38;5;21;01mstring_\u001b[39;00m \u001b[38;5;28;01mimport\u001b[39;00m StringDtype\n\u001b[1;32m--> 181\u001b[0m     \u001b[38;5;28mself\u001b[39m\u001b[38;5;241m.\u001b[39m_inferred_dtype \u001b[38;5;241m=\u001b[39m \u001b[38;5;28;43mself\u001b[39;49m\u001b[38;5;241;43m.\u001b[39;49m\u001b[43m_validate\u001b[49m\u001b[43m(\u001b[49m\u001b[43mdata\u001b[49m\u001b[43m)\u001b[49m\n\u001b[0;32m    182\u001b[0m     \u001b[38;5;28mself\u001b[39m\u001b[38;5;241m.\u001b[39m_is_categorical \u001b[38;5;241m=\u001b[39m is_categorical_dtype(data\u001b[38;5;241m.\u001b[39mdtype)\n\u001b[0;32m    183\u001b[0m     \u001b[38;5;28mself\u001b[39m\u001b[38;5;241m.\u001b[39m_is_string \u001b[38;5;241m=\u001b[39m \u001b[38;5;28misinstance\u001b[39m(data\u001b[38;5;241m.\u001b[39mdtype, StringDtype)\n",
      "File \u001b[1;32m~\\anaconda3\\lib\\site-packages\\pandas\\core\\strings\\accessor.py:235\u001b[0m, in \u001b[0;36mStringMethods._validate\u001b[1;34m(data)\u001b[0m\n\u001b[0;32m    232\u001b[0m inferred_dtype \u001b[38;5;241m=\u001b[39m lib\u001b[38;5;241m.\u001b[39minfer_dtype(values, skipna\u001b[38;5;241m=\u001b[39m\u001b[38;5;28;01mTrue\u001b[39;00m)\n\u001b[0;32m    234\u001b[0m \u001b[38;5;28;01mif\u001b[39;00m inferred_dtype \u001b[38;5;129;01mnot\u001b[39;00m \u001b[38;5;129;01min\u001b[39;00m allowed_types:\n\u001b[1;32m--> 235\u001b[0m     \u001b[38;5;28;01mraise\u001b[39;00m \u001b[38;5;167;01mAttributeError\u001b[39;00m(\u001b[38;5;124m\"\u001b[39m\u001b[38;5;124mCan only use .str accessor with string values!\u001b[39m\u001b[38;5;124m\"\u001b[39m)\n\u001b[0;32m    236\u001b[0m \u001b[38;5;28;01mreturn\u001b[39;00m inferred_dtype\n",
      "\u001b[1;31mAttributeError\u001b[0m: Can only use .str accessor with string values!"
     ]
    }
   ],
   "source": [
    "# first we found that there are inconsistencies in the columns start_time and end_time:\n",
    "# some of the entries don't follow the format year-month-day; hours:minutes:seconds\n",
    "# to be able to change the format first we need the replace the slashes (/) with colons (:) of some values\n",
    "\n",
    "def substitute_slashes(data, column):\n",
    "    data[column] = data[column].str.replace('/', ':')\n",
    "    return data\n",
    "\n",
    "substitute_slashes(bikes, 'start_time')\n",
    "substitute_slashes(bikes, 'end_time')"
   ]
  },
  {
   "cell_type": "code",
   "execution_count": 103,
   "id": "00f2e8a8",
   "metadata": {},
   "outputs": [],
   "source": [
    "# second, we transform the start_time and end_time columns to the proper format with the pd.to_datatime method\n",
    "\n",
    "bikes[['start_time','end_time']] = bikes[['start_time','end_time']].apply(pd.to_datetime)"
   ]
  },
  {
   "cell_type": "code",
   "execution_count": 114,
   "id": "5ce7aa17",
   "metadata": {},
   "outputs": [],
   "source": [
    "# another mistake is that the variable 'end_station_id' is an object, when it should be an integer like 'start_station_id'\n",
    "# that is because some of the values in the column are also not in the proper format, instead of being whole numers\n",
    "# some of them have quote symbols (\") which makes the program transform the column into an object type\n",
    "# so what we need to do is eliminate the quote marks of the numbers with the next function\n",
    "\n",
    "def remove_quotes(data, column):\n",
    "    data[column] = data[column].apply(lambda x: x.replace('\"', '') if isinstance(x, str) else x)\n",
    "    return data\n",
    "\n",
    "bikes = remove_quotes(bikes, 'end_station_id')\n"
   ]
  },
  {
   "cell_type": "code",
   "execution_count": 115,
   "id": "5afe6686",
   "metadata": {},
   "outputs": [
    {
     "data": {
      "text/html": [
       "<div>\n",
       "<style scoped>\n",
       "    .dataframe tbody tr th:only-of-type {\n",
       "        vertical-align: middle;\n",
       "    }\n",
       "\n",
       "    .dataframe tbody tr th {\n",
       "        vertical-align: top;\n",
       "    }\n",
       "\n",
       "    .dataframe thead th {\n",
       "        text-align: right;\n",
       "    }\n",
       "</style>\n",
       "<table border=\"1\" class=\"dataframe\">\n",
       "  <thead>\n",
       "    <tr style=\"text-align: right;\">\n",
       "      <th></th>\n",
       "      <th>Unnamed: 0</th>\n",
       "      <th>start_time</th>\n",
       "      <th>end_time</th>\n",
       "      <th>start_station_id</th>\n",
       "      <th>start_station_lat</th>\n",
       "      <th>start_station_lon</th>\n",
       "      <th>end_station_id</th>\n",
       "      <th>end_station_lat</th>\n",
       "      <th>end_station_lon</th>\n",
       "      <th>bike_id</th>\n",
       "    </tr>\n",
       "  </thead>\n",
       "  <tbody>\n",
       "    <tr>\n",
       "      <th>0</th>\n",
       "      <td>0</td>\n",
       "      <td>2021-01-01 00:00:04</td>\n",
       "      <td>2021-01-01 00:15:19</td>\n",
       "      <td>91</td>\n",
       "      <td>42.366277</td>\n",
       "      <td>-71.091690</td>\n",
       "      <td>370</td>\n",
       "      <td>42.350961</td>\n",
       "      <td>-71.077828</td>\n",
       "      <td>5316</td>\n",
       "    </tr>\n",
       "    <tr>\n",
       "      <th>1</th>\n",
       "      <td>1</td>\n",
       "      <td>2021-01-01 00:00:21</td>\n",
       "      <td>2021-01-01 00:18:27</td>\n",
       "      <td>370</td>\n",
       "      <td>42.350961</td>\n",
       "      <td>-71.077828</td>\n",
       "      <td>169</td>\n",
       "      <td>42.378965</td>\n",
       "      <td>-71.068607</td>\n",
       "      <td>4917</td>\n",
       "    </tr>\n",
       "    <tr>\n",
       "      <th>2</th>\n",
       "      <td>2</td>\n",
       "      <td>2021-01-01 00:00:26</td>\n",
       "      <td>2021-01-01 00:16:12</td>\n",
       "      <td>46</td>\n",
       "      <td>42.343666</td>\n",
       "      <td>-71.085824</td>\n",
       "      <td>21</td>\n",
       "      <td>42.346520</td>\n",
       "      <td>-71.080658</td>\n",
       "      <td>2881</td>\n",
       "    </tr>\n",
       "    <tr>\n",
       "      <th>3</th>\n",
       "      <td>3</td>\n",
       "      <td>2021-01-01 00:00:30</td>\n",
       "      <td>2021-01-01 00:06:26</td>\n",
       "      <td>178</td>\n",
       "      <td>42.359573</td>\n",
       "      <td>-71.101295</td>\n",
       "      <td>107</td>\n",
       "      <td>42.362500</td>\n",
       "      <td>-71.088220</td>\n",
       "      <td>4792</td>\n",
       "    </tr>\n",
       "    <tr>\n",
       "      <th>4</th>\n",
       "      <td>4</td>\n",
       "      <td>2021-01-01 00:01:11</td>\n",
       "      <td>2021-01-01 00:09:43</td>\n",
       "      <td>386</td>\n",
       "      <td>42.368605</td>\n",
       "      <td>-71.099302</td>\n",
       "      <td>413</td>\n",
       "      <td>42.369553</td>\n",
       "      <td>-71.085790</td>\n",
       "      <td>6062</td>\n",
       "    </tr>\n",
       "    <tr>\n",
       "      <th>...</th>\n",
       "      <td>...</td>\n",
       "      <td>...</td>\n",
       "      <td>...</td>\n",
       "      <td>...</td>\n",
       "      <td>...</td>\n",
       "      <td>...</td>\n",
       "      <td>...</td>\n",
       "      <td>...</td>\n",
       "      <td>...</td>\n",
       "      <td>...</td>\n",
       "    </tr>\n",
       "    <tr>\n",
       "      <th>2934383</th>\n",
       "      <td>2934373</td>\n",
       "      <td>2021-12-31 23:58:38</td>\n",
       "      <td>2022-01-01 00:06:38</td>\n",
       "      <td>4</td>\n",
       "      <td>42.345392</td>\n",
       "      <td>-71.069616</td>\n",
       "      <td>415</td>\n",
       "      <td>42.349544</td>\n",
       "      <td>-71.072421</td>\n",
       "      <td>4895</td>\n",
       "    </tr>\n",
       "    <tr>\n",
       "      <th>2934384</th>\n",
       "      <td>2934374</td>\n",
       "      <td>2021-12-31 23:58:46</td>\n",
       "      <td>2022-01-01 00:11:24</td>\n",
       "      <td>77</td>\n",
       "      <td>42.386844</td>\n",
       "      <td>-71.098120</td>\n",
       "      <td>96</td>\n",
       "      <td>42.373379</td>\n",
       "      <td>-71.111075</td>\n",
       "      <td>3665</td>\n",
       "    </tr>\n",
       "    <tr>\n",
       "      <th>2934385</th>\n",
       "      <td>2934375</td>\n",
       "      <td>2021-12-31 23:58:49</td>\n",
       "      <td>2022-01-01 00:03:30</td>\n",
       "      <td>338</td>\n",
       "      <td>42.348359</td>\n",
       "      <td>-71.139972</td>\n",
       "      <td>8</td>\n",
       "      <td>42.353334</td>\n",
       "      <td>-71.137313</td>\n",
       "      <td>6470</td>\n",
       "    </tr>\n",
       "    <tr>\n",
       "      <th>2934386</th>\n",
       "      <td>2934376</td>\n",
       "      <td>2021-12-31 23:59:50</td>\n",
       "      <td>2022-01-01 00:01:49</td>\n",
       "      <td>32</td>\n",
       "      <td>42.343691</td>\n",
       "      <td>-71.102353</td>\n",
       "      <td>19</td>\n",
       "      <td>42.347241</td>\n",
       "      <td>-71.105301</td>\n",
       "      <td>6484</td>\n",
       "    </tr>\n",
       "    <tr>\n",
       "      <th>2934387</th>\n",
       "      <td>2934377</td>\n",
       "      <td>2021-12-31 23:59:59</td>\n",
       "      <td>2022-01-01 00:09:17</td>\n",
       "      <td>17</td>\n",
       "      <td>42.364263</td>\n",
       "      <td>-71.118276</td>\n",
       "      <td>108</td>\n",
       "      <td>42.377945</td>\n",
       "      <td>-71.116865</td>\n",
       "      <td>4780</td>\n",
       "    </tr>\n",
       "  </tbody>\n",
       "</table>\n",
       "<p>2934388 rows × 10 columns</p>\n",
       "</div>"
      ],
      "text/plain": [
       "         Unnamed: 0          start_time            end_time  start_station_id  \\\n",
       "0                 0 2021-01-01 00:00:04 2021-01-01 00:15:19                91   \n",
       "1                 1 2021-01-01 00:00:21 2021-01-01 00:18:27               370   \n",
       "2                 2 2021-01-01 00:00:26 2021-01-01 00:16:12                46   \n",
       "3                 3 2021-01-01 00:00:30 2021-01-01 00:06:26               178   \n",
       "4                 4 2021-01-01 00:01:11 2021-01-01 00:09:43               386   \n",
       "...             ...                 ...                 ...               ...   \n",
       "2934383     2934373 2021-12-31 23:58:38 2022-01-01 00:06:38                 4   \n",
       "2934384     2934374 2021-12-31 23:58:46 2022-01-01 00:11:24                77   \n",
       "2934385     2934375 2021-12-31 23:58:49 2022-01-01 00:03:30               338   \n",
       "2934386     2934376 2021-12-31 23:59:50 2022-01-01 00:01:49                32   \n",
       "2934387     2934377 2021-12-31 23:59:59 2022-01-01 00:09:17                17   \n",
       "\n",
       "         start_station_lat  start_station_lon  end_station_id  \\\n",
       "0                42.366277         -71.091690             370   \n",
       "1                42.350961         -71.077828             169   \n",
       "2                42.343666         -71.085824              21   \n",
       "3                42.359573         -71.101295             107   \n",
       "4                42.368605         -71.099302             413   \n",
       "...                    ...                ...             ...   \n",
       "2934383          42.345392         -71.069616             415   \n",
       "2934384          42.386844         -71.098120              96   \n",
       "2934385          42.348359         -71.139972               8   \n",
       "2934386          42.343691         -71.102353              19   \n",
       "2934387          42.364263         -71.118276             108   \n",
       "\n",
       "         end_station_lat  end_station_lon  bike_id  \n",
       "0              42.350961       -71.077828     5316  \n",
       "1              42.378965       -71.068607     4917  \n",
       "2              42.346520       -71.080658     2881  \n",
       "3              42.362500       -71.088220     4792  \n",
       "4              42.369553       -71.085790     6062  \n",
       "...                  ...              ...      ...  \n",
       "2934383        42.349544       -71.072421     4895  \n",
       "2934384        42.373379       -71.111075     3665  \n",
       "2934385        42.353334       -71.137313     6470  \n",
       "2934386        42.347241       -71.105301     6484  \n",
       "2934387        42.377945       -71.116865     4780  \n",
       "\n",
       "[2934388 rows x 10 columns]"
      ]
     },
     "execution_count": 115,
     "metadata": {},
     "output_type": "execute_result"
    }
   ],
   "source": [
    "# once all the values in the column have the same format, we can proceed to transform \n",
    "# the variable type of 'end_sation_id' to integer\n",
    "\n",
    "def convert_column_to_integer(dataset, column_index):\n",
    "    dataset[column_index] = pd.to_numeric(dataset[column_index], errors='coerce').astype('int64')\n",
    "    return dataset\n",
    "\n",
    "convert_column_to_integer(bikes, 'end_station_id')"
   ]
  },
  {
   "cell_type": "code",
   "execution_count": 116,
   "id": "e6586308",
   "metadata": {},
   "outputs": [
    {
     "name": "stdout",
     "output_type": "stream",
     "text": [
      "<class 'pandas.core.frame.DataFrame'>\n",
      "RangeIndex: 2934388 entries, 0 to 2934387\n",
      "Data columns (total 10 columns):\n",
      " #   Column             Dtype         \n",
      "---  ------             -----         \n",
      " 0   Unnamed: 0         int64         \n",
      " 1   start_time         datetime64[ns]\n",
      " 2   end_time           datetime64[ns]\n",
      " 3   start_station_id   int64         \n",
      " 4   start_station_lat  float64       \n",
      " 5   start_station_lon  float64       \n",
      " 6   end_station_id     int64         \n",
      " 7   end_station_lat    float64       \n",
      " 8   end_station_lon    float64       \n",
      " 9   bike_id            int64         \n",
      "dtypes: datetime64[ns](2), float64(4), int64(4)\n",
      "memory usage: 223.9 MB\n"
     ]
    }
   ],
   "source": [
    "# we can use the info() function to confirm that the type of the variable 'end_station_id' has been changed\n",
    "\n",
    "bikes.info()"
   ]
  },
  {
   "cell_type": "code",
   "execution_count": null,
   "id": "c8329d22",
   "metadata": {},
   "outputs": [],
   "source": [
    "# note: i'm thinking that all of the 'id' variables shouldn't be integers \n",
    "# because we are not supposed to operate with those numbers but treat them as names, should be strings ???"
   ]
  }
 ],
 "metadata": {
  "kernelspec": {
   "display_name": "Python 3 (ipykernel)",
   "language": "python",
   "name": "python3"
  },
  "language_info": {
   "codemirror_mode": {
    "name": "ipython",
    "version": 3
   },
   "file_extension": ".py",
   "mimetype": "text/x-python",
   "name": "python",
   "nbconvert_exporter": "python",
   "pygments_lexer": "ipython3",
   "version": "3.10.9"
  }
 },
 "nbformat": 4,
 "nbformat_minor": 5
}
